{
 "cells": [
  {
   "cell_type": "markdown",
   "metadata": {},
   "source": [
    "### Inheritance in School Classes:\n",
    "The school has different categories of people: students, teachers, and administrative staff. You\n",
    "need to create a base class \"Person\" and then derive other classes like \"Student,\" \"Teacher,\" and\n",
    "\"Staff\" from it. Each subclass should inherit common attributes and methods from the \"Person\"\n",
    "class while adding specialized attributes and behaviors specific to their role.\n",
    "\n",
    "## Task:\n",
    "Write Python code that demonstrates the use of inheritance by creating a base \"Person\" class and\n",
    "subclasses for \"Student,\" \"Teacher,\" and \"Staff,\" with common attributes like \"name,\" \"age,\" and\n",
    "\"address\" in the \"Person\" class."
   ]
  },
  {
   "cell_type": "code",
   "execution_count": null,
   "metadata": {},
   "outputs": [
    {
     "name": "stdout",
     "output_type": "stream",
     "text": [
      "<__main__.Teacher object at 0x1065ecd70>\n"
     ]
    }
   ],
   "source": [
    "class Address:\n",
    "\n",
    "    \"\"\"\n",
    "    Represents an address.\n",
    "\n",
    "    Attributes:\n",
    "        street (str): The street name.\n",
    "        city (str): The city name.\n",
    "        state (str): The state name.\n",
    "        zip_code (str): The ZIP code.\n",
    "    \"\"\"\n",
    "    def __init__(self, street: str, city: str, state: str, zip_code: str):\n",
    "\n",
    "        \"\"\"\n",
    "        Initialize a new Address instance.\n",
    "\n",
    "        Parameters:\n",
    "            street (str): The street name.\n",
    "            city (str): The city name.\n",
    "            state (str): The state name.\n",
    "            zip_code (str): The ZIP code.\n",
    "        \"\"\"\n",
    "\n",
    "        self.street = street\n",
    "        self.city = city\n",
    "        self.state = state\n",
    "        self.zip_code = zip_code\n",
    "\n",
    "class Person:\n",
    "\n",
    "    \"\"\"\n",
    "    Represents a person in a school.\n",
    "\n",
    "    Attributes:\n",
    "        name (str): The name.\n",
    "        age (int): The age.\n",
    "        address (Address): The address.\n",
    "    \"\"\"\n",
    "\n",
    "    def __init__(self, name: str, age: int, address: Address):\n",
    "\n",
    "        \"\"\"\n",
    "        Initialize a new Person instance.\n",
    "\n",
    "        Parameters:\n",
    "            name (str): The person's name.\n",
    "            age (int): The person's age.\n",
    "            address (Address): The Person's address.\n",
    "        \"\"\"\n",
    "        self.name = name\n",
    "        self.age = age\n",
    "        self.address = address\n",
    "\n",
    "class Teacher(Person):\n",
    "\n",
    "    \"\"\"\n",
    "    Represents a teacher, inherits from the Person class.\n",
    "    \"\"\"\n",
    "    pass\n",
    "\n",
    "class Student(Person):\n",
    "\n",
    "    \"\"\"\n",
    "    Represents a student, inherits from the Person class.\n",
    "    \"\"\"\n",
    "    pass\n",
    "\n",
    "class Staff(Person):\n",
    "    \n",
    "    \"\"\"\n",
    "    Represents a Staff member, inherits from the Person class.\n",
    "    \"\"\"\n",
    "    pass"
   ]
  }
 ],
 "metadata": {
  "kernelspec": {
   "display_name": "Python 3",
   "language": "python",
   "name": "python3"
  },
  "language_info": {
   "codemirror_mode": {
    "name": "ipython",
    "version": 3
   },
   "file_extension": ".py",
   "mimetype": "text/x-python",
   "name": "python",
   "nbconvert_exporter": "python",
   "pygments_lexer": "ipython3",
   "version": "3.13.0"
  }
 },
 "nbformat": 4,
 "nbformat_minor": 2
}
