{
 "cells": [
  {
   "cell_type": "markdown",
   "metadata": {},
   "source": [
    "### Inheritance in School Classes:\n",
    "The school has different categories of people: students, teachers, and administrative staff. You\n",
    "need to create a base class \"Person\" and then derive other classes like \"Student,\" \"Teacher,\" and\n",
    "\"Staff\" from it. Each subclass should inherit common attributes and methods from the \"Person\"\n",
    "class while adding specialized attributes and behaviors specific to their role.\n",
    "\n",
    "## Task:\n",
    "Write Python code that demonstrates the use of inheritance by creating a base \"Person\" class and\n",
    "subclasses for \"Student,\" \"Teacher,\" and \"Staff,\" with common attributes like \"name,\" \"age,\" and\n",
    "\"address\" in the \"Person\" class."
   ]
  },
  {
   "cell_type": "code",
   "execution_count": 1,
   "metadata": {},
   "outputs": [],
   "source": [
    "class Address:\n",
    "\n",
    "    \"\"\"\n",
    "    Represents an address.\n",
    "\n",
    "    Attributes:\n",
    "        street (str): The street name.\n",
    "        city (str): The city name.\n",
    "        state (str): The state name.\n",
    "        zip_code (str): The ZIP code.\n",
    "    \"\"\"\n",
    "    def __init__(self, street: str, city: str, state: str, zip_code: str):\n",
    "\n",
    "        \"\"\"\n",
    "        Initialize a new Address instance.\n",
    "\n",
    "        Parameters:\n",
    "            street (str): The street name.\n",
    "            city (str): The city name.\n",
    "            state (str): The state name.\n",
    "            zip_code (str): The ZIP code.\n",
    "        \"\"\"\n",
    "\n",
    "        self.street = street\n",
    "        self.city = city\n",
    "        self.state = state\n",
    "        self.zip_code = zip_code\n",
    "\n",
    "class Person:\n",
    "\n",
    "    \"\"\"\n",
    "    Represents a person in a school.\n",
    "\n",
    "    Attributes:\n",
    "        name (str): The name.\n",
    "        age (int): The age.\n",
    "        address (Address): The address.\n",
    "    \"\"\"\n",
    "\n",
    "    def __init__(self, name: str, age: int, address: Address):\n",
    "\n",
    "        \"\"\"\n",
    "        Initialize a new Person instance.\n",
    "\n",
    "        Parameters:\n",
    "            name (str): The person's name.\n",
    "            age (int): The person's age.\n",
    "            address (Address): The Person's address.\n",
    "        \"\"\"\n",
    "        self.name = name\n",
    "        self.age = age\n",
    "        self.address = address\n",
    "\n",
    "class Teacher(Person):\n",
    "\n",
    "    \"\"\"\n",
    "    Represents a teacher, inherits from the Person class.\n",
    "    \"\"\"\n",
    "    pass\n",
    "\n",
    "class Student(Person):\n",
    "\n",
    "    \"\"\"\n",
    "    Represents a student, inherits from the Person class.\n",
    "    \"\"\"\n",
    "    pass\n",
    "\n",
    "class Staff(Person):\n",
    "    \n",
    "    \"\"\"\n",
    "    Represents a Staff member, inherits from the Person class.\n",
    "    \"\"\"\n",
    "    pass"
   ]
  },
  {
   "cell_type": "markdown",
   "metadata": {},
   "source": [
    "### b. Assigning Grades Method for Students:\n",
    "In your system, students should be able to receive grades for different subjects. Create a method\n",
    "in the \"Student\" class that allows assigning grades for subjects and calculating the average grade.\n",
    "\n",
    "## Task:\n",
    "Create a assign_grades() method in the \"Student\" class that takes a dictionary of subjects and\n",
    "their corresponding grades, and calculate the average grade."
   ]
  },
  {
   "cell_type": "code",
   "execution_count": 12,
   "metadata": {},
   "outputs": [
    {
     "name": "stdout",
     "output_type": "stream",
     "text": [
      "84.33333333333333\n"
     ]
    }
   ],
   "source": [
    "class Student(Person):\n",
    "\n",
    "    \"\"\"\n",
    "    Represents a student, inherits from the Person class.\n",
    "    \"\"\"\n",
    " \n",
    "    def assign_grades(self, subject_grade_dict: dict) -> float:\n",
    "        \"\"\"\n",
    "        Calculates average grade.\n",
    "        \n",
    "        Parameters:\n",
    "            subject_grade_dict (dict): A dictionary where keys are subject names and values are numeric grades.\n",
    "        \n",
    "        Returns:\n",
    "            float: The calculated average grade.\n",
    "        \"\"\"\n",
    "        average_grade = 0.0\n",
    "\n",
    "        if subject_grade_dict:\n",
    "            average_grade = sum(subject_grade_dict.values()) / len(subject_grade_dict)\n",
    "        \n",
    "        return average_grade \n",
    "\n",
    "subject_grades = {\n",
    "    \"Subject_1\": 85,\n",
    "    \"Subject_2\": 90,\n",
    "    \"Subject_3\": 78\n",
    "}\n",
    "\n",
    "student = Student(\"Alice\", 30, Address(\"street\",\"city\",\"state\",\"zip_code\"))\n",
    "average_grade  = student.assign_grades(subject_grades)\n",
    "print(average_grade)"
   ]
  },
  {
   "cell_type": "code",
   "execution_count": 15,
   "metadata": {},
   "outputs": [
    {
     "name": "stderr",
     "output_type": "stream",
     "text": [
      "...\n",
      "----------------------------------------------------------------------\n",
      "Ran 3 tests in 0.005s\n",
      "\n",
      "OK\n"
     ]
    }
   ],
   "source": [
    "import unittest\n",
    "\n",
    "class TestStudent(unittest.TestCase):\n",
    "\n",
    "    student = Student(\"Alice\", 30, Address(\"street\",\"city\",\"state\",\"zip_code\"))\n",
    "    \n",
    "    def test_average_calculation(self):\n",
    "        grades = {\"Math\": 80, \"Science\": 90, \"English\": 70}\n",
    "        expected = (80 + 90 + 70) / 3\n",
    "        self.assertEqual(student.assign_grades(grades), expected)\n",
    "    \n",
    "    def test_emptya_subject_dictionary(self):\n",
    "        grades = {}\n",
    "        expected = 0.0\n",
    "        self.assertEqual(student.assign_grades(grades), expected)\n",
    "    \n",
    "    def test_single_grade_dictionary(self):\n",
    "        grades = {\"Math\": 100}\n",
    "        expected = 100.0\n",
    "        self.assertEqual(student.assign_grades(grades), expected)\n",
    "\n",
    "if __name__ == '__main__':\n",
    "    import unittest\n",
    "    unittest.main(argv=['first-arg-is-ignored'], exit=False)"
   ]
  },
  {
   "cell_type": "markdown",
   "metadata": {},
   "source": []
  }
 ],
 "metadata": {
  "kernelspec": {
   "display_name": "Python 3",
   "language": "python",
   "name": "python3"
  },
  "language_info": {
   "codemirror_mode": {
    "name": "ipython",
    "version": 3
   },
   "file_extension": ".py",
   "mimetype": "text/x-python",
   "name": "python",
   "nbconvert_exporter": "python",
   "pygments_lexer": "ipython3",
   "version": "3.13.0"
  }
 },
 "nbformat": 4,
 "nbformat_minor": 2
}
