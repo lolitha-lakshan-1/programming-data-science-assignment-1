{
 "cells": [
  {
   "cell_type": "markdown",
   "metadata": {},
   "source": [
    "### Inheritance in School Classes:\n",
    "The school has different categories of people: students, teachers, and administrative staff. You\n",
    "need to create a base class \"Person\" and then derive other classes like \"Student,\" \"Teacher,\" and\n",
    "\"Staff\" from it. Each subclass should inherit common attributes and methods from the \"Person\"\n",
    "class while adding specialized attributes and behaviors specific to their role.\n",
    "\n",
    "## Task:\n",
    "Write Python code that demonstrates the use of inheritance by creating a base \"Person\" class and\n",
    "subclasses for \"Student,\" \"Teacher,\" and \"Staff,\" with common attributes like \"name,\" \"age,\" and\n",
    "\"address\" in the \"Person\" class."
   ]
  },
  {
   "cell_type": "code",
   "execution_count": null,
   "metadata": {},
   "outputs": [
    {
     "name": "stdout",
     "output_type": "stream",
     "text": [
      "<__main__.Teacher object at 0x1065ecd70>\n"
     ]
    }
   ],
   "source": [
    "class Address:\n",
    "    def __init__(self, street: str, city: str, state: str, zip_code: str):\n",
    "        self.street = street\n",
    "        self.city = city\n",
    "        self.state = state\n",
    "        self.zip_code = zip_code\n",
    "\n",
    "class Person:\n",
    "    def __init__(self, name: str, age: int, address: Address):\n",
    "        self.name = name\n",
    "        self.age = age\n",
    "        self.address = address\n",
    "\n",
    "class Teacher(Person):\n",
    "    pass\n",
    "\n",
    "class Student(Person):\n",
    "    pass\n",
    "\n",
    "class Staff(Person):\n",
    "    pass"
   ]
  }
 ],
 "metadata": {
  "kernelspec": {
   "display_name": "Python 3",
   "language": "python",
   "name": "python3"
  },
  "language_info": {
   "codemirror_mode": {
    "name": "ipython",
    "version": 3
   },
   "file_extension": ".py",
   "mimetype": "text/x-python",
   "name": "python",
   "nbconvert_exporter": "python",
   "pygments_lexer": "ipython3",
   "version": "3.13.0"
  }
 },
 "nbformat": 4,
 "nbformat_minor": 2
}
