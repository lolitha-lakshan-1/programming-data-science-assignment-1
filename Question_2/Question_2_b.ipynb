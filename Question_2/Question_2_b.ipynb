{
 "cells": [
  {
   "cell_type": "code",
   "execution_count": 1,
   "metadata": {},
   "outputs": [
    {
     "name": "stdout",
     "output_type": "stream",
     "text": [
      "                        title                              movie_url  rating  \\\n",
      "0    The Shawshank Redemption  https://www.imdb.com/title/tt0111161/     9.3   \n",
      "1               The Godfather  https://www.imdb.com/title/tt0068646/     9.2   \n",
      "2             The Dark Knight  https://www.imdb.com/title/tt0468569/     9.0   \n",
      "3       The Godfather Part II  https://www.imdb.com/title/tt0071562/     9.0   \n",
      "4                12 Angry Men  https://www.imdb.com/title/tt0050083/     9.0   \n",
      "..                        ...                                    ...     ...   \n",
      "245            Koe no katachi  https://www.imdb.com/title/tt5323662/     8.1   \n",
      "246                  The Help  https://www.imdb.com/title/tt1454029/     8.1   \n",
      "247             Amores perros  https://www.imdb.com/title/tt0245712/     8.0   \n",
      "248                   Rebecca  https://www.imdb.com/title/tt0032976/     8.1   \n",
      "249                  Drishyam  https://www.imdb.com/title/tt4430212/     8.2   \n",
      "\n",
      "                       genre  release_year                  directors  \\\n",
      "0                      Drama        1994.0         ['Frank Darabont']   \n",
      "1               Crime, Drama        1972.0   ['Francis Ford Coppola']   \n",
      "2       Action, Crime, Drama        2008.0      ['Christopher Nolan']   \n",
      "3               Crime, Drama        1974.0   ['Francis Ford Coppola']   \n",
      "4               Crime, Drama        1957.0           ['Sidney Lumet']   \n",
      "..                       ...           ...                        ...   \n",
      "245         Animation, Drama        2016.0           ['Naoko Yamada']   \n",
      "246                    Drama        2011.0            ['Tate Taylor']   \n",
      "247          Drama, Thriller        2000.0  ['Alejandro G. Iñárritu']   \n",
      "248  Drama, Mystery, Romance        1940.0       ['Alfred Hitchcock']   \n",
      "249    Crime, Drama, Mystery        2015.0        ['Nishikant Kamat']   \n",
      "\n",
      "                                           lead_actors      box_office  \n",
      "0      ['Tim Robbins', 'Morgan Freeman', 'Bob Gunton']     $29,332,133  \n",
      "1         ['Marlon Brando', 'Al Pacino', 'James Caan']    $250,342,198  \n",
      "2    ['Christian Bale', 'Heath Ledger', 'Aaron Eckh...  $1,009,057,329  \n",
      "3     ['Al Pacino', 'Robert De Niro', 'Robert Duvall']     $47,964,222  \n",
      "4      ['Henry Fonda', 'Lee J. Cobb', 'Martin Balsam']          $2,945  \n",
      "..                                                 ...             ...  \n",
      "245         ['Miyu Irino', 'Saori Hayami', 'Aoi Yûki']     $30,819,442  \n",
      "246   ['Viola Davis', 'Emma Stone', 'Octavia Spencer']    $221,802,186  \n",
      "247  ['Emilio Echevarría', 'Gael García Bernal', 'G...     $20,908,467  \n",
      "248  ['Laurence Olivier', 'Joan Fontaine', 'George ...        $113,328  \n",
      "249             ['Ajay Devgn', 'Shriya Saran', 'Tabu']             NaN  \n",
      "\n",
      "[250 rows x 8 columns]\n"
     ]
    }
   ],
   "source": [
    "import pandas as pd\n",
    "\n",
    "csv_file_path = \"input.csv\"\n",
    "df = pd.read_csv(csv_file_path)\n",
    "\n",
    "print(df)"
   ]
  },
  {
   "cell_type": "markdown",
   "metadata": {},
   "source": [
    "# Transform Data\n",
    "    Remove null Values\n",
    "    Year float -> int\n",
    "    Box Office currency string -> float"
   ]
  },
  {
   "cell_type": "code",
   "execution_count": 23,
   "metadata": {},
   "outputs": [
    {
     "name": "stdout",
     "output_type": "stream",
     "text": [
      "title           0\n",
      "movie_url       0\n",
      "rating          0\n",
      "genre           0\n",
      "release_year    1\n",
      "directors       0\n",
      "lead_actors     0\n",
      "box_office      4\n",
      "dtype: int64\n",
      "                        title                              movie_url  rating  \\\n",
      "0    The Shawshank Redemption  https://www.imdb.com/title/tt0111161/     9.3   \n",
      "1               The Godfather  https://www.imdb.com/title/tt0068646/     9.2   \n",
      "2             The Dark Knight  https://www.imdb.com/title/tt0468569/     9.0   \n",
      "3       The Godfather Part II  https://www.imdb.com/title/tt0071562/     9.0   \n",
      "4                12 Angry Men  https://www.imdb.com/title/tt0050083/     9.0   \n",
      "..                        ...                                    ...     ...   \n",
      "244             Groundhog Day  https://www.imdb.com/title/tt0107048/     8.0   \n",
      "245            Koe no katachi  https://www.imdb.com/title/tt5323662/     8.1   \n",
      "246                  The Help  https://www.imdb.com/title/tt1454029/     8.1   \n",
      "247             Amores perros  https://www.imdb.com/title/tt0245712/     8.0   \n",
      "248                   Rebecca  https://www.imdb.com/title/tt0032976/     8.1   \n",
      "\n",
      "                       genre  release_year                  directors  \\\n",
      "0                      Drama          1994         ['Frank Darabont']   \n",
      "1               Crime, Drama          1972   ['Francis Ford Coppola']   \n",
      "2       Action, Crime, Drama          2008      ['Christopher Nolan']   \n",
      "3               Crime, Drama          1974   ['Francis Ford Coppola']   \n",
      "4               Crime, Drama          1957           ['Sidney Lumet']   \n",
      "..                       ...           ...                        ...   \n",
      "244   Comedy, Drama, Fantasy          1993           ['Harold Ramis']   \n",
      "245         Animation, Drama          2016           ['Naoko Yamada']   \n",
      "246                    Drama          2011            ['Tate Taylor']   \n",
      "247          Drama, Thriller          2000  ['Alejandro G. Iñárritu']   \n",
      "248  Drama, Mystery, Romance          1940       ['Alfred Hitchcock']   \n",
      "\n",
      "                                           lead_actors    box_office  \n",
      "0      ['Tim Robbins', 'Morgan Freeman', 'Bob Gunton']  2.933213e+07  \n",
      "1         ['Marlon Brando', 'Al Pacino', 'James Caan']  2.503422e+08  \n",
      "2    ['Christian Bale', 'Heath Ledger', 'Aaron Eckh...  1.009057e+09  \n",
      "3     ['Al Pacino', 'Robert De Niro', 'Robert Duvall']  4.796422e+07  \n",
      "4      ['Henry Fonda', 'Lee J. Cobb', 'Martin Balsam']  2.945000e+03  \n",
      "..                                                 ...           ...  \n",
      "244  ['Bill Murray', 'Andie MacDowell', 'Chris Elli...  7.110878e+07  \n",
      "245         ['Miyu Irino', 'Saori Hayami', 'Aoi Yûki']  3.081944e+07  \n",
      "246   ['Viola Davis', 'Emma Stone', 'Octavia Spencer']  2.218022e+08  \n",
      "247  ['Emilio Echevarría', 'Gael García Bernal', 'G...  2.090847e+07  \n",
      "248  ['Laurence Olivier', 'Joan Fontaine', 'George ...  1.133280e+05  \n",
      "\n",
      "[245 rows x 8 columns]\n"
     ]
    },
    {
     "name": "stderr",
     "output_type": "stream",
     "text": [
      "<>:12: SyntaxWarning: invalid escape sequence '\\$'\n",
      "<>:12: SyntaxWarning: invalid escape sequence '\\$'\n",
      "/var/folders/ld/zllb3tcd7gn5jz6s0zgzk5lc0000gn/T/ipykernel_33380/2318911510.py:12: SyntaxWarning: invalid escape sequence '\\$'\n",
      "  clean_df['box_office'] = clean_df['box_office'].replace('[\\$,]', '', regex=True).astype(float)\n",
      "/var/folders/ld/zllb3tcd7gn5jz6s0zgzk5lc0000gn/T/ipykernel_33380/2318911510.py:9: SettingWithCopyWarning: \n",
      "A value is trying to be set on a copy of a slice from a DataFrame.\n",
      "Try using .loc[row_indexer,col_indexer] = value instead\n",
      "\n",
      "See the caveats in the documentation: https://pandas.pydata.org/pandas-docs/stable/user_guide/indexing.html#returning-a-view-versus-a-copy\n",
      "  clean_df['release_year'] = clean_df['release_year'].astype(int)\n",
      "/var/folders/ld/zllb3tcd7gn5jz6s0zgzk5lc0000gn/T/ipykernel_33380/2318911510.py:12: SettingWithCopyWarning: \n",
      "A value is trying to be set on a copy of a slice from a DataFrame.\n",
      "Try using .loc[row_indexer,col_indexer] = value instead\n",
      "\n",
      "See the caveats in the documentation: https://pandas.pydata.org/pandas-docs/stable/user_guide/indexing.html#returning-a-view-versus-a-copy\n",
      "  clean_df['box_office'] = clean_df['box_office'].replace('[\\$,]', '', regex=True).astype(float)\n"
     ]
    }
   ],
   "source": [
    "# First check for missing values\n",
    "print(df.isnull().sum())\n",
    "\n",
    "# Box office coloumn has 4 missing values and release year has 1 \n",
    "# Clean the data set by dropping those\n",
    "clean_df = df.dropna()\n",
    "\n",
    "# Convert 'release_year' column to int\n",
    "clean_df['release_year'] = clean_df['release_year'].astype(int)\n",
    "\n",
    "# Remove dollar signs and commas from 'box_office' column and convert to float\n",
    "clean_df['box_office'] = clean_df['box_office'].replace('[\\$,]', '', regex=True).astype(float)\n",
    "\n",
    "print(clean_df)\n"
   ]
  },
  {
   "cell_type": "markdown",
   "metadata": {},
   "source": []
  },
  {
   "cell_type": "code",
   "execution_count": null,
   "metadata": {},
   "outputs": [
    {
     "name": "stdout",
     "output_type": "stream",
     "text": [
      "       rating  release_year    box_office\n",
      "count  245.00        245.00        245.00\n",
      "mean     8.31       1988.24  230644086.71\n",
      "std      0.23         25.59  371534624.10\n",
      "min      8.00       1921.00        399.00\n",
      "25%      8.10       1972.00    7968347.00\n",
      "50%      8.20       1995.00   64417003.00\n",
      "75%      8.40       2009.00  321752656.00\n",
      "max      9.30       2024.00 2799439100.00\n"
     ]
    },
    {
     "data": {
      "image/png": "[encoded data removed]",
      "text/plain": [
       "<Figure size 1800x500 with 2 Axes>"
      ]
     },
     "metadata": {},
     "output_type": "display_data"
    }
   ],
   "source": [
    "# Perform statistical analyssis on key numerical attributes\n",
    "pd.options.display.float_format = '{:.2f}'.format\n",
    "statistical_summary = clean_df[['rating', 'release_year', 'box_office']].describe()\n",
    "print(statistical_summary)\n",
    "\n",
    "# Create histograms for rating, release_year\n",
    "import matplotlib.pyplot as plt\n",
    "\n",
    "fig, axes = plt.subplots(1, 2, figsize=(18, 5))\n",
    "\n",
    "axes[0].hist(clean_df['rating'], bins=10, edgecolor='black', alpha=0.7)\n",
    "axes[0].set_title('Distribution of Movie Ratings')\n",
    "\n",
    "axes[1].hist(clean_df['release_year'], bins=20, edgecolor='black', alpha=0.7)\n",
    "axes[1].set_title('Distribution of Movie Release Years')\n",
    "\n",
    "plt.tight_layout()\n",
    "plt.show()\n"
   ]
  },
  {
   "cell_type": "markdown",
   "metadata": {},
   "source": [
    "1. Rating\n",
    "    - Average rating 8.3 which tells us majority movies are well liked by the viewers.\n",
    "    - Standard deviation is 0.233, which is low.\n",
    "    - Indicates most movies are near the mean value.\n",
    "    - Minimum rating is 8.0 which means, even the lowest rated movie is well reciveved.\n",
    "    - Maximum rating is 9.3 which means highest rated movie has almost a perfect rating.\n",
    "    - The middle 50% ratings is between 8.1 - 8.4.\n",
    "\n",
    "2. Release Year\n",
    "    - Min is 1921 and max is 2024, which means data set contain moviews throughout the century which is a large span.\n",
    "    - Standard deviation is 25 which is quite high. Higher variablility of years.\n",
    "    - Q1 is 1972 and Q3 is 2009 which indicates majority of movies were releaed between this time span since dataset skewed to more recent movies according to the plots.\n",
    "\n",
    "3. Box Office\n",
    "    - Mean is 230.64M which means movies earned that much on average.\n",
    "    - Standard deviation is 371.53M which is really high, which indicates high variation.\n",
    "    - Min and Mac confirm that because min is 399.00 and max is 2.8 billon which indicates two extream end values."
   ]
  },
  {
   "cell_type": "code",
   "execution_count": null,
   "metadata": {},
   "outputs": [],
   "source": []
  }
 ],
 "metadata": {
  "kernelspec": {
   "display_name": "Python 3",
   "language": "python",
   "name": "python3"
  },
  "language_info": {
   "codemirror_mode": {
    "name": "ipython",
    "version": 3
   },
   "file_extension": ".py",
   "mimetype": "text/x-python",
   "name": "python",
   "nbconvert_exporter": "python",
   "pygments_lexer": "ipython3",
   "version": "3.13.0"
  }
 },
 "nbformat": 4,
 "nbformat_minor": 2
}
